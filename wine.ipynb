{
 "cells": [
  {
   "cell_type": "code",
   "execution_count": 43,
   "metadata": {},
   "outputs": [
    {
     "name": "stdout",
     "output_type": "stream",
     "text": [
      "[[  7.     0.27   0.36 ...,   0.45   8.8    6.  ]\n",
      " [  6.3    0.3    0.34 ...,   0.49   9.5    6.  ]\n",
      " [  8.1    0.28   0.4  ...,   0.44  10.1    6.  ]\n",
      " ..., \n",
      " [  6.5    0.24   0.19 ...,   0.46   9.4    6.  ]\n",
      " [  5.5    0.29   0.3  ...,   0.38  12.8    7.  ]\n",
      " [  6.     0.21   0.38 ...,   0.32  11.8    6.  ]]\n",
      "[ 6.  6.  6. ...,  6.  7.  6.]\n",
      "[[  7.     0.27   0.36 ...,   3.     0.45   8.8 ]\n",
      " [  6.3    0.3    0.34 ...,   3.3    0.49   9.5 ]\n",
      " [  8.1    0.28   0.4  ...,   3.26   0.44  10.1 ]\n",
      " ..., \n",
      " [  6.5    0.24   0.19 ...,   2.99   0.46   9.4 ]\n",
      " [  5.5    0.29   0.3  ...,   3.34   0.38  12.8 ]\n",
      " [  6.     0.21   0.38 ...,   3.26   0.32  11.8 ]]\n",
      "[ 5.  6.  6. ...,  6.  7.  6.]\n"
     ]
    }
   ],
   "source": [
    "import numpy as np\n",
    "import pandas as pd\n",
    "input_file = \"/Users/fengpengda/Desktop/wine_predict/uci-wine-quality/winequality-white3.csv\"\n",
    "df = pd.read_csv(input_file,header = 0,delimiter = \",\") # 读取文件，以，作为分隔符\n",
    "df = df._get_numeric_data() # 删除不是数字的行\n",
    "numeric_headers = list(df.columns.values)\n",
    "numpy_array = df.as_matrix()\n",
    "print(numpy_array)\n",
    "label_y = numpy_array[:,-1] # label集\n",
    "print(label_y)\n",
    "data_X = numpy_array[:,0:-1]  # 所有数据\n",
    "print(data_X)\n",
    "\n",
    "\n",
    "# 切分训练集和验证集\n",
    "row,colume = data_X.shape\n",
    "train_X = data_X[0:int(row * 0.7),:] # 训练集\n",
    "train_y = label_y[0:int(row*0.7)]\n",
    "test_X = data_X[int(row*0.7) + 1:,:] # 测试集\n",
    "test_y = label_y[int(row*0.7) + 1:]\n",
    "\n",
    "numeric_headers.reverse()\n",
    "reverse_df = df[numeric_headers]"
   ]
  },
  {
   "cell_type": "code",
   "execution_count": 40,
   "metadata": {},
   "outputs": [],
   "source": [
    "from sklearn import preprocessing\n",
    "normalized_X = preprocessing.normalize(data_X)\n",
    "standardized_X = preprocessing.scale(data_X)"
   ]
  },
  {
   "cell_type": "code",
   "execution_count": 44,
   "metadata": {},
   "outputs": [
    {
     "name": "stdout",
     "output_type": "stream",
     "text": [
      "GaussianNB(priors=None)\n"
     ]
    }
   ],
   "source": [
    "# 朴素贝叶斯\n",
    "from sklearn import metrics\n",
    "from sklearn.naive_bayes import GaussianNB\n",
    "model = GaussianNB()\n",
    "model.fit(train_X,train_y)\n",
    "print(model)"
   ]
  },
  {
   "cell_type": "code",
   "execution_count": 45,
   "metadata": {
    "collapsed": true
   },
   "outputs": [],
   "source": [
    "predicted = model.predict(test_X)\n",
    "expected = test_y"
   ]
  },
  {
   "cell_type": "code",
   "execution_count": 46,
   "metadata": {},
   "outputs": [
    {
     "name": "stdout",
     "output_type": "stream",
     "text": [
      "             precision    recall  f1-score   support\n",
      "\n",
      "        3.0       0.07      0.50      0.12         2\n",
      "        4.0       0.41      0.32      0.36        37\n",
      "        5.0       0.51      0.51      0.51       394\n",
      "        6.0       0.53      0.23      0.33       732\n",
      "        7.0       0.29      0.76      0.43       262\n",
      "        8.0       0.26      0.17      0.20        42\n",
      "\n",
      "avg / total       0.47      0.40      0.39      1469\n",
      "\n",
      "[[  1   0   0   1   0   0]\n",
      " [  1  12   9   5   9   1]\n",
      " [  6   7 202 118  60   1]\n",
      " [  4   9 151 172 386  10]\n",
      " [  1   1  26  26 200   8]\n",
      " [  2   0   8   2  23   7]]\n"
     ]
    }
   ],
   "source": [
    "print(metrics.classification_report(expected,predicted))\n",
    "print(metrics.confusion_matrix(expected,predicted))"
   ]
  },
  {
   "cell_type": "code",
   "execution_count": null,
   "metadata": {
    "collapsed": true
   },
   "outputs": [],
   "source": []
  }
 ],
 "metadata": {
  "kernelspec": {
   "display_name": "Python 3",
   "language": "python",
   "name": "python3"
  },
  "language_info": {
   "codemirror_mode": {
    "name": "ipython",
    "version": 3
   },
   "file_extension": ".py",
   "mimetype": "text/x-python",
   "name": "python",
   "nbconvert_exporter": "python",
   "pygments_lexer": "ipython3",
   "version": "3.6.3"
  }
 },
 "nbformat": 4,
 "nbformat_minor": 2
}
